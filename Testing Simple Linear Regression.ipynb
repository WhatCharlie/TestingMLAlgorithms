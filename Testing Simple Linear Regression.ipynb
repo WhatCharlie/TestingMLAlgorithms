{
 "cells": [
  {
   "cell_type": "code",
   "execution_count": 2075,
   "id": "7da57d50-e152-4a9e-bacb-382f4e8c6513",
   "metadata": {},
   "outputs": [
    {
     "name": "stdout",
     "output_type": "stream",
     "text": [
      "   Column_1  Column_2\n",
      "0  0.417022  0.720324\n",
      "1  0.000114  0.302333\n",
      "2  0.146756  0.092339\n",
      "3  0.186260  0.345561\n",
      "4  0.396767  0.538817\n",
      "5  0.419195  0.685220\n",
      "6  0.204452  0.878117\n",
      "7  0.027388  0.670468\n",
      "8  0.417305  0.558690\n",
      "9  0.140387  0.198101\n",
      "   Column_1  Column_2\n",
      "0  0.417022  0.720324\n",
      "1  1.000114  1.302333\n",
      "2  2.146756  2.092339\n",
      "3  3.186260  3.345561\n",
      "4  4.396767  4.538817\n",
      "5  5.419195  5.685220\n",
      "6  6.204452  6.878117\n",
      "7  7.027388  7.670468\n",
      "8  8.417305  8.558690\n",
      "9  9.140387  9.198101\n"
     ]
    }
   ],
   "source": [
    "import pandas as pd\n",
    "import numpy as np\n",
    "import matplotlib.pyplot as plt\n",
    "from scipy import stats\n",
    "\n",
    "# Set the random seed for reproducibility\n",
    "np.random.seed(1)\n",
    "\n",
    "# Define the number of rows and columns\n",
    "num_rows = 10\n",
    "\n",
    "num_columns = 2\n",
    "\n",
    "# Create a DataFrame with random data\n",
    "random_data = pd.DataFrame(np.random.rand(num_rows, num_columns), \n",
    "                            columns=[f'Column_{i+1}' for i in range(num_columns)])\n",
    "\n",
    "print(random_data)\n",
    "\n",
    "rd = random_data\n",
    "\n",
    "Column1 = 'Column_1'\n",
    "Column2 = 'Column_2'\n",
    "\n",
    "rd[Column1] = (rd[Column1] + rd.index)\n",
    "rd[Column2] = (rd[Column2] + rd.index)\n",
    "\n",
    "print(rd)"
   ]
  },
  {
   "cell_type": "code",
   "execution_count": 2076,
   "id": "fb75e3d9-2da9-4dd7-982e-748085d8eb8e",
   "metadata": {},
   "outputs": [
    {
     "data": {
      "image/png": "[encoded data removed]",
      "text/plain": [
       "<Figure size 700x700 with 1 Axes>"
      ]
     },
     "metadata": {},
     "output_type": "display_data"
    }
   ],
   "source": [
    "def create_original_graph(dataset):\n",
    "\n",
    "    color = 'blue'\n",
    "    linecolor = \"lightblue\"\n",
    "    plt.figure(figsize=(7, 7))\n",
    "    \n",
    "    plt.plot(dataset[Column1], dataset[Column2], color=linecolor, linestyle=':', linewidth=2, label='Trend Line', zorder=1)\n",
    "    \n",
    "    plt.scatter(dataset[Column1], dataset[Column2], s=1, zorder=3, facecolors='none', edgecolors=color)\n",
    "\n",
    "    plt.grid(which='major', color='#DDDDDD', linewidth=0.8)\n",
    "    plt.grid(which='minor', color='#EEEEEE', linestyle='-', linewidth=0.5)\n",
    "    \n",
    "    plt.xlabel(Column1)\n",
    "    plt.ylabel(Column2)\n",
    "    plt.title('Scatter Plot with Coordinates')\n",
    "\n",
    "\n",
    "create_original_graph(rd)\n",
    "plt.show()"
   ]
  },
  {
   "cell_type": "code",
   "execution_count": 2077,
   "id": "d7f53311-cdf8-497b-9bd1-c74ccd38a1bf",
   "metadata": {},
   "outputs": [
    {
     "name": "stdout",
     "output_type": "stream",
     "text": [
      "X samples Mean: 4.735564605424047 \n",
      "Y samples Mean: 4.998996888638593\n"
     ]
    }
   ],
   "source": [
    "def find_sample_means(samples, dataset):\n",
    "    n = samples\n",
    "    \n",
    "    x_sample_sum = 0\n",
    "    y_sample_sum = 0\n",
    "    \n",
    "    for row in range(n):\n",
    "        y_sample_sum += dataset[Column2][row]\n",
    "        x_sample_sum += dataset[Column1][row]\n",
    "    \n",
    "    y_sample_mean = y_sample_sum / n\n",
    "    x_sample_mean = x_sample_sum / n\n",
    "    \n",
    "    return x_sample_mean, y_sample_mean\n",
    "\n",
    "sample_means = find_sample_means(num_rows, rd)\n",
    "x_sample_mean, y_sample_mean = sample_means\n",
    "print(f\"X samples Mean: {x_sample_mean} \\nY samples Mean: {y_sample_mean}\")"
   ]
  },
  {
   "cell_type": "code",
   "execution_count": 2078,
   "id": "c917761d-835a-4b7e-be31-36d7c62dbe0a",
   "metadata": {},
   "outputs": [
    {
     "name": "stdout",
     "output_type": "stream",
     "text": [
      "'B1', or the Slope: 1.0100076879725024\n"
     ]
    }
   ],
   "source": [
    "def find_slope(x_mean, y_mean, samples, dataset):\n",
    "    n = samples\n",
    "    covariance = 0\n",
    "    variance = 0\n",
    "\n",
    "    for row in range(n):\n",
    "        \n",
    "        xi = dataset[Column1][row]\n",
    "        yi = dataset[Column2][row]\n",
    "        \n",
    "        covariance += (xi - x_mean) * (yi - y_mean)\n",
    "        \n",
    "        variance += (xi - x_mean) ** 2\n",
    "\n",
    "    B1 = covariance / variance\n",
    "\n",
    "    return B1\n",
    "\n",
    "B1 = find_slope(x_sample_mean, y_sample_mean, num_rows, rd)\n",
    "\n",
    "print(f\"'B1', or the Slope: {B1}\")"
   ]
  },
  {
   "cell_type": "code",
   "execution_count": 2079,
   "id": "44e703d4-b2d5-45c2-99a2-c923c5d3ae2e",
   "metadata": {},
   "outputs": [
    {
     "name": "stdout",
     "output_type": "stream",
     "text": [
      "'B0', or the Y-Intercept: 0.21604023026983565\n"
     ]
    }
   ],
   "source": [
    "def find_intercept(x_mean, y_mean, slope):\n",
    "    \n",
    "    B0 = y_mean - (slope * x_mean)\n",
    "\n",
    "    return B0\n",
    "\n",
    "B0 = find_intercept(x_sample_mean, y_sample_mean, B1)\n",
    "\n",
    "print(f\"'B0', or the Y-Intercept: {B0}\")"
   ]
  },
  {
   "cell_type": "code",
   "execution_count": 2080,
   "id": "ed1446f3-4661-4a3c-b015-1194dcfcc449",
   "metadata": {},
   "outputs": [
    {
     "name": "stdout",
     "output_type": "stream",
     "text": [
      "Residiual Sum of Squares: 0.4910667303820931 \n",
      "\n",
      "MSE: 0.04910667303820931 \n",
      "\n",
      "List of Squared Errors: [0.006903754064446715, 0.005801737118219794, 0.08522989163691806, 0.007854711911480574, 0.013922217659228336, 1.8052743647750674e-05, 0.15644614385061498, 0.12724329714130417, 0.025246974079490808, 0.06239995017674189]\n"
     ]
    }
   ],
   "source": [
    "def find_residual_sum_of_squares(intercept, slope, samples, dataset):\n",
    "    \n",
    "    RSS = 0\n",
    "    squared_errors = []\n",
    "    \n",
    "    for row in range(samples):\n",
    "        \n",
    "        xi = dataset[Column1][row]\n",
    "        yi = dataset[Column2][row]\n",
    "        \n",
    "        squared_error = (yi - (intercept+(slope*xi))) ** 2\n",
    "\n",
    "        RSS += squared_error\n",
    "        squared_errors.append(squared_error)\n",
    "        MSE = RSS / samples\n",
    "    return RSS, MSE, squared_errors\n",
    "\n",
    "RSS_result = find_residual_sum_of_squares(B0, B1, num_rows, rd)\n",
    "RSS, MSE, squared_errors = RSS_result\n",
    "\n",
    "print(f\"Residiual Sum of Squares: {RSS} \\n\\nMSE: {MSE} \\n\\nList of Squared Errors: {squared_errors}\")"
   ]
  },
  {
   "cell_type": "code",
   "execution_count": 2081,
   "id": "b2f232ac-7bc3-43c6-86b4-f046821b7caa",
   "metadata": {},
   "outputs": [
    {
     "data": {
      "image/png": "[encoded data removed]",
      "text/plain": [
       "<Figure size 700x700 with 1 Axes>"
      ]
     },
     "metadata": {},
     "output_type": "display_data"
    }
   ],
   "source": [
    "create_Original_Graph(rd)\n",
    "\n",
    "LR_color = 'red'\n",
    "LR_linecolor = 'pink'\n",
    "\n",
    "def create_linear_regression_lines(intercept, slope, dataset):\n",
    "    x_linear_regression = dataset[Column1]\n",
    "    y_linear_regression = intercept + (slope * x_linear_regression)\n",
    "    plt.plot(x_linear_regression, y_linear_regression, color=LR_linecolor, linestyle='-', linewidth=2, label='Trend Line', zorder=1)\n",
    "    plt.scatter(x_linear_regression, y_linear_regression, s=1, zorder=3, facecolors='none', edgecolors=LR_color, label='Regression Line')\n",
    "    return x_linear_regression, y_linear_regression\n",
    "\n",
    "x_linear_regression, y_Linear_regression = create_linear_regression_lines(B0, B1, rd)\n",
    "\n",
    "\n",
    "plt.show()"
   ]
  },
  {
   "cell_type": "code",
   "execution_count": 2082,
   "id": "070805a0-d758-4eb2-9103-91d30cc0577f",
   "metadata": {},
   "outputs": [
    {
     "name": "stdout",
     "output_type": "stream",
     "text": [
      "At X = 10.9889, the True Y-Value is: 10.7482 \n",
      "\n",
      "At X = 10.9889, the Predicted Y-Value is: 11.3149 \n",
      "\n",
      "At X = 10.9889 the Residual is -0.5667\n"
     ]
    }
   ],
   "source": [
    "def predict_next_point(intercept, slope, samples, columns, dataset):\n",
    "    \n",
    "    new_num_rows = samples + 1\n",
    "\n",
    "    # Creating a new data frame with the same seed\n",
    "    new_rd = pd.DataFrame(np.random.rand(new_num_rows, columns), \n",
    "                            columns=[f'Column_{i+1}' for i in range(columns)])\n",
    "\n",
    "    new_rd[Column1] = (new_rd[Column1] + new_rd.index)\n",
    "    new_rd[Column2] = (new_rd[Column2] + new_rd.index)\n",
    "\n",
    "    \n",
    "    true_Y = round(new_rd.at[len(new_rd) - 1, Column2], 4)\n",
    "\n",
    "    test_X = round(new_rd.at[len(new_rd) - 1, Column1], 4)\n",
    "    \n",
    "    test_Y = round(intercept + slope * test_X, 4)\n",
    "\n",
    "    residual = round(true_Y - test_Y, 4)\n",
    "    \n",
    "    return test_Y, true_Y, test_X, residual\n",
    "\n",
    "\n",
    "    \n",
    "test_Y, true_Y, test_X, residual = predict_next_point(B0, B1, num_rows, num_columns, rd)\n",
    "print(f\"At X = {test_X}, the True Y-Value is: {true_Y} \\n\\nAt X = {test_X}, the Predicted Y-Value is: {test_Y} \\n\\nAt X = {test_X} the Residual is {residual}\")"
   ]
  },
  {
   "cell_type": "code",
   "execution_count": 2083,
   "id": "043093fd-e373-4a69-83a5-d267fea804c4",
   "metadata": {},
   "outputs": [
    {
     "name": "stdout",
     "output_type": "stream",
     "text": [
      "The samples Standard Deviation is: 3.0378\n"
     ]
    }
   ],
   "source": [
    "def find_sample_SD(x_mean, samples, dataset):\n",
    "    temp = 0\n",
    "    for row in range(samples):\n",
    "        xi = row\n",
    "        temp += (xi - x_mean) ** 2\n",
    "    standard_deviation = np.sqrt(temp / (samples-1))\n",
    "    return standard_deviation\n",
    "s_standard_deviation = find_sample_SD(x_sample_mean, num_rows, rd)\n",
    "print(f\"The samples Standard Deviation is: {round(s_standard_deviation, 4)}\")"
   ]
  },
  {
   "cell_type": "code",
   "execution_count": 2084,
   "id": "c4914599-3d29-4d61-814f-c92bb668b595",
   "metadata": {},
   "outputs": [
    {
     "name": "stdout",
     "output_type": "stream",
     "text": [
      "The Standard Error is: 0.9228\n"
     ]
    }
   ],
   "source": [
    "def find_sample_SE(sd, samples):\n",
    "    standard_error = (sd ** 2) / samples\n",
    "    return standard_error\n",
    "s_standard_error = find_sample_SE(s_standard_deviation, num_rows)\n",
    "print(f\"The Standard Error is: {round(s_standard_error, 4)}\")"
   ]
  },
  {
   "cell_type": "code",
   "execution_count": 2085,
   "id": "17717f81-edce-41a8-99e3-e5cbc02d3355",
   "metadata": {},
   "outputs": [
    {
     "name": "stdout",
     "output_type": "stream",
     "text": [
      "The Residual Standard Error is: 0.2478\n"
     ]
    }
   ],
   "source": [
    "def find_RSE(samples):\n",
    "    RSE = np.sqrt(RSS / (samples-2))\n",
    "    return RSE\n",
    "RSE = find_RSE(num_rows)\n",
    "print(f\"The Residual Standard Error is: {round(RSE, 4)}\")"
   ]
  },
  {
   "cell_type": "code",
   "execution_count": 2086,
   "id": "93a48f3d-785e-4d9f-b1d2-6e8d75c1b51d",
   "metadata": {},
   "outputs": [
    {
     "name": "stdout",
     "output_type": "stream",
     "text": [
      "The Standard Error of B0 Squared is: 0.0369\n",
      "The Standard error of B1 Squared is: 0.0017\n"
     ]
    }
   ],
   "source": [
    "def find_SE_of_slope_and_intercept(x_mean, samples, dataset):\n",
    "    SE_B0_Sq = 0\n",
    "    SE_B1_Sq = 0\n",
    "    \n",
    "    temp1 = 0\n",
    "    for row in range(samples):\n",
    "        temp1 += (dataset[Column1][row] - x_mean) ** 2\n",
    "\n",
    "    temp2 = (1 / samples) + (x_mean / temp1)\n",
    "    \n",
    "    SE_B0_Sq = RSE * temp2\n",
    "    SE_B1_Sq = RSE / temp1\n",
    "\n",
    "    return SE_B0_Sq, SE_B1_Sq\n",
    "\n",
    "SE_B0_Sq, SE_B1_Sq = find_SE_of_slope_and_intercept(x_Sample_Mean, num_rows, rd)\n",
    "\n",
    "print(f\"The Standard Error of B0 Squared is: {round(SE_B0_Sq, 4)}\\nThe Standard error of B1 Squared is: {round(SE_B1_Sq, 4)}\")"
   ]
  },
  {
   "cell_type": "code",
   "execution_count": 2087,
   "id": "39741bc9-cff8-4394-a8d3-c4b349eb28bf",
   "metadata": {},
   "outputs": [
    {
     "name": "stdout",
     "output_type": "stream",
     "text": [
      "[[0.1422, 0.2899], [1.0067, 1.0133]]\n",
      "\n",
      "At a 95% Confidence Interval, the Y-Intercept lies in the range: [0.1422, 0.2899]\n",
      "\n",
      "At a 95% Confidence Interval, the Slope lies in the range: [1.0067, 1.0133]\n"
     ]
    }
   ],
   "source": [
    "def find_confidence_intervals(intercept, slope, SE_intercept, SE_slope):\n",
    "    CI_95_B0 = []\n",
    "    CI_95_B1 = []\n",
    "\n",
    "    lower_Limit = -2\n",
    "    upper_Limit = 2\n",
    "\n",
    "    CI_95_B0.append(round(intercept + (lower_Limit * SE_intercept), 4))\n",
    "    CI_95_B0.append(round(intercept + (upper_Limit * SE_intercept), 4))\n",
    "    CI_95_B1.append(round(slope + (lower_Limit * SE_slope), 4))\n",
    "    CI_95_B1.append(round(slope + (upper_Limit * SE_slope), 4))\n",
    "\n",
    "    confidence_intervals = [CI_95_B0, CI_95_B1]\n",
    "    return confidence_intervals\n",
    "confidence_Intervals = find_confidence_intervals(B0, B1, SE_B0_Sq, SE_B1_Sq)\n",
    "print(confidence_Intervals)\n",
    "print(f\"\\nAt a 95% Confidence Interval, the Y-Intercept lies in the range: {confidence_Intervals[0]}\")\n",
    "print(f\"\\nAt a 95% Confidence Interval, the Slope lies in the range: {confidence_Intervals[1]}\")"
   ]
  },
  {
   "cell_type": "code",
   "execution_count": 2088,
   "id": "ee1db510-3f13-4622-8b13-8494c07e1858",
   "metadata": {},
   "outputs": [
    {
     "name": "stdout",
     "output_type": "stream",
     "text": [
      "The t-statistic is 24.7493\n"
     ]
    }
   ],
   "source": [
    "def find_t_stat(slope, SE_slope_sq):\n",
    "    SE_slope = np.sqrt(SE_slope_sq)\n",
    "    t_stat = slope / SE_slope\n",
    "    return t_stat\n",
    "\n",
    "t_stat = round(find_t_stat(B1, SE_B1_Sq), 4)\n",
    "print(f\"The t-statistic is {t_stat}\")"
   ]
  },
  {
   "cell_type": "code",
   "execution_count": 2089,
   "id": "9cb18fbc-82f4-4403-a5ad-968a51bcfd4d",
   "metadata": {},
   "outputs": [
    {
     "name": "stdout",
     "output_type": "stream",
     "text": [
      "The Total Sum of Squares is 150.6098\n",
      "The R-Squared Value is 0.9967\n"
     ]
    }
   ],
   "source": [
    "def find_total_sum_of_squares(y_mean, samples, dataset):\n",
    "    TSS = 0\n",
    "    for row in range(samples):\n",
    "        TSS += (dataset[Column2][row] - y_mean) ** 2\n",
    "    return TSS\n",
    "TSS = round(find_total_sum_of_squares(y_Sample_Mean, num_rows, rd), 4)\n",
    "print(f\"The Total Sum of Squares is {TSS}\")\n",
    "\n",
    "def find_r_squared(tss, rss):\n",
    "    R2 = (tss - rss) / tss\n",
    "    return R2\n",
    "R2 = round(find_r_squared(TSS, RSS), 4)\n",
    "print(f\"The R-Squared Value is {R2}\")"
   ]
  },
  {
   "cell_type": "code",
   "execution_count": 2090,
   "id": "60afc721-6b80-4814-a753-235769936bb0",
   "metadata": {},
   "outputs": [
    {
     "name": "stdout",
     "output_type": "stream",
     "text": [
      "P-value: 7.593200734845595e-09\n"
     ]
    }
   ],
   "source": [
    "def calculate_p_value(t_statistic, df, two_tailed=True):\n",
    "    if two_tailed:\n",
    "        p_value = 2 * (1 - stats.t.cdf(abs(t_statistic), df))\n",
    "    else:\n",
    "        p_value = 1 - stats.t.cdf(t_statistic, df)\n",
    "    return p_value\n",
    "    \n",
    "df = num_rows-2\n",
    "p_value = calculate_p_value(t_stat, df)\n",
    "print(f\"P-value: {p_value}\")"
   ]
  },
  {
   "cell_type": "code",
   "execution_count": null,
   "id": "59a2696c-b5c7-4d1e-8bdd-c5e686346f11",
   "metadata": {},
   "outputs": [],
   "source": []
  }
 ],
 "metadata": {
  "kernelspec": {
   "display_name": "Python 3 (ipykernel)",
   "language": "python",
   "name": "python3"
  },
  "language_info": {
   "codemirror_mode": {
    "name": "ipython",
    "version": 3
   },
   "file_extension": ".py",
   "mimetype": "text/x-python",
   "name": "python",
   "nbconvert_exporter": "python",
   "pygments_lexer": "ipython3",
   "version": "3.12.4"
  }
 },
 "nbformat": 4,
 "nbformat_minor": 5
}
